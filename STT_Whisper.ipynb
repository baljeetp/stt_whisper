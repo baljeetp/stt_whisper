{
 "cells": [
  {
   "cell_type": "code",
   "execution_count": null,
   "id": "c58af452-78b3-45b6-a9bd-83c3cfc9a107",
   "metadata": {},
   "outputs": [],
   "source": [
    "\n",
    "%pip install torch transformers librosa soundfile\n",
    "import torch\n",
    "from transformers import WhisperForConditionalGeneration, WhisperProcessor\n",
    "import librosa\n",
    "import numpy as np"
   ]
  },
  {
   "cell_type": "code",
   "execution_count": null,
   "id": "2f87cc4c-ac9a-4a6f-a6eb-8d41f71279d9",
   "metadata": {},
   "outputs": [],
   "source": [
    "model_name = \"openai/whisper-large\"  # Use the large model for best accuracy\n",
    "processor = WhisperProcessor.from_pretrained(model_name)\n",
    "model = WhisperForConditionalGeneration.from_pretrained(model_name)"
   ]
  },
  {
   "cell_type": "code",
   "execution_count": null,
   "id": "3a2947a2-5d4d-4bc3-b28d-f1e8319a2fac",
   "metadata": {},
   "outputs": [],
   "source": [
    "def load_audio(file_path):\n",
    "    audio, sr = librosa.load(file_path, sr=16000)  # Load and resample to 16kHz\n",
    "    return audio"
   ]
  },
  {
   "cell_type": "code",
   "execution_count": null,
   "id": "0a4d7376-0d41-48cb-925c-7af833a373e9",
   "metadata": {},
   "outputs": [],
   "source": [
    "def split_audio(audio, chunk_length=30):\n",
    "    sr = 16000  \n",
    "    chunk_size = chunk_length * sr  \n",
    "    chunks = [audio[i:i + chunk_size] for i in range(0, len(audio), chunk_size)]\n",
    "    return chunks"
   ]
  },
  {
   "cell_type": "code",
   "execution_count": null,
   "id": "dd546e4b-779e-4d8e-989b-acbafb26914f",
   "metadata": {},
   "outputs": [],
   "source": [
    "def transcribe_audio(audio, language=None):\n",
    "    inputs = processor(audio, sampling_rate=16000, return_tensors=\"pt\")\n",
    "    \n",
    "    # Generate transcription with optional language specification\n",
    "    if language:\n",
    "        predicted_ids = model.generate(inputs.input_features, language=language)\n",
    "    else:\n",
    "        predicted_ids = model.generate(inputs.input_features)\n",
    "    \n",
    "    transcription = processor.batch_decode(predicted_ids, skip_special_tokens=True)\n",
    "    return transcription[0]"
   ]
  },
  {
   "cell_type": "code",
   "execution_count": null,
   "id": "5f263824-dc6f-46cb-9501-38851ba467fc",
   "metadata": {},
   "outputs": [],
   "source": [
    "def transcribe_any_audio(file_path, language=None):\n",
    "    \n",
    "    audio = load_audio(file_path)\n",
    "    \n",
    "    # Check if the audio is shorter than 30 seconds\n",
    "    if len(audio) <= 30 * 16000:  \n",
    "        print(\"Transcribing short audio...\")\n",
    "        transcription = transcribe_audio(audio, language=language)\n",
    "    else:\n",
    "        # Split the audio into chunks\n",
    "        chunks = split_audio(audio)\n",
    "        print(f\"Transcribing long audio in {len(chunks)} chunks...\")\n",
    "        \n",
    "        # Transcribe each chunk\n",
    "        full_transcription = \"\"\n",
    "        for i, chunk in enumerate(chunks):\n",
    "            print(f\"Transcribing chunk {i + 1} of {len(chunks)}...\")\n",
    "            transcription = transcribe_audio(chunk, language=language)\n",
    "            full_transcription += transcription + \" \"\n",
    "        \n",
    "        transcription = full_transcription.strip()\n",
    "    \n",
    "    return transcription"
   ]
  },
  {
   "cell_type": "code",
   "execution_count": null,
   "id": "aab1d808-9fd2-4db9-a475-cfaf63cd873e",
   "metadata": {},
   "outputs": [],
   "source": [
    "\n",
    "audio_path = \"C:\\Users\\balje\\Downloads\\STT_Whisper-main\\STT_Whisper-main\\STT_Whisper_audio (online-audio-converter.com).mp3\""
   ]
  },
  {
   "cell_type": "code",
   "execution_count": null,
   "id": "70a6df02-9eb9-4895-8923-c0b8ec550066",
   "metadata": {},
   "outputs": [],
   "source": [
    "# Specify the language (optional, e.g., \"fr\" for French, \"es\" for Spanish, \"hi\" for Hindi)\n",
    "language = None  # Set to None for auto-detection,"
   ]
  },
  {
   "cell_type": "code",
   "execution_count": null,
   "id": "877d5b29-4a75-42dd-b9dc-5ab12d39aa2e",
   "metadata": {},
   "outputs": [],
   "source": [
    "transcription = transcribe_any_audio(audio_path, language=language)\n",
    "print(\"Full Transcription:\", transcription)\n"
   ]
  }
 ],
 "metadata": {
  "kernelspec": {
   "display_name": "Python 3",
   "language": "python",
   "name": "python3"
  },
  "language_info": {
   "codemirror_mode": {
    "name": "ipython",
    "version": 3
   },
   "file_extension": ".py",
   "mimetype": "text/x-python",
   "name": "python",
   "nbconvert_exporter": "python",
   "pygments_lexer": "ipython3",
   "version": "3.10.4"
  }
 },
 "nbformat": 4,
 "nbformat_minor": 5
}
